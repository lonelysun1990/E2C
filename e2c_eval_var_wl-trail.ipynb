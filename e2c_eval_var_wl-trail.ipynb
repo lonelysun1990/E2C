{
 "cells": [
  {
   "cell_type": "code",
   "execution_count": 1,
   "metadata": {},
   "outputs": [
    {
     "name": "stderr",
     "output_type": "stream",
     "text": [
      "Using TensorFlow backend.\n"
     ]
    }
   ],
   "source": [
    "import h5py\n",
    "import numpy as np\n",
    "\n",
    "from e2c_create import create_e2c_var_wl\n",
    "\n",
    "from keras import backend as K\n",
    "from keras.layers import Input\n",
    "from keras.models import Model\n",
    "\n",
    "import matplotlib.pyplot as plt\n",
    "plt.set_cmap('jet')\n",
    "\n",
    "import os\n",
    "os.environ[\"CUDA_VISIBLE_DEVICES\"]=\"3\"\n",
    "\n",
    "# GPU memory management\n",
    "import tensorflow as tf"
   ]
  },
  {
   "cell_type": "code",
   "execution_count": 2,
   "metadata": {},
   "outputs": [],
   "source": [
    "# tf.session specification\n",
    "# TensorFlow wizardry\n",
    "config = tf.ConfigProto()\n",
    "\n",
    "# Don't pre-allocate memory; allocate as-needed\n",
    "config.gpu_options.allow_growth = True\n",
    "\n",
    "# Only allow a total of half the GPU memory to be allocated\n",
    "config.gpu_options.per_process_gpu_memory_fraction = 0.5\n",
    "\n",
    "# Create a session with the above options specified.\n",
    "K.tensorflow_backend.set_session(tf.Session(config=config))"
   ]
  },
  {
   "cell_type": "code",
   "execution_count": 3,
   "metadata": {},
   "outputs": [],
   "source": [
    "# data_dir = '/data/cees/zjin/lstm_rom/datasets/9W_BHP/'\n",
    "# data_dir = '/data/cees/zjin/lstm_rom/datasets/9W_BHP_RATE/'\n",
    "# data_dir = '/data/cees/zjin/lstm_rom/datasets/9W_MS_BHP_RATE/'\n",
    "data_dir = '/data3/Astro/personal/zjin/datasets/9W_MS_BHP_RATE_GAU/'\n",
    "# data_dir = '/data3/Astro/personal/zjin/datasets/7W_CHA/'\n",
    "\n",
    "output_dir = '/data3/Astro/lstm_rom/e2c_larry/saved_models/' # load model data\n",
    "\n",
    "case_name = '9w_ms_bhp_rate'\n",
    "# case_name = '7w_cha'\n",
    "\n",
    "# target_suffix = '_fix_wl_rel_2'\n",
    "# target_suffix = '_fix_wl_rel_8' # the dataset being evaluated here\n",
    "target_suffix = '_var_wl_rel_1'\n",
    "\n",
    "# case_suffix = '_fix_wl_rel_2'\n",
    "# case_suffix = '_fix_wl_rel_8'\n",
    "case_suffix = '_var_wl_rel_1'\n",
    "\n",
    "train_suffix = '_with_p'\n",
    "\n",
    "model_suffix = '_flux_loss'\n",
    "# model_suffix = '_no_fl'\n",
    "# model_suffix = '_ae_no_l2_ep_10' # only in 7w_cha\n",
    "\n",
    "num_t = 20\n",
    "run_eval = 100\n",
    "run_train = 300\n",
    "num_eval = num_t * run_eval\n",
    "num_train = num_t * run_train\n",
    "\n",
    "dt = 100\n",
    "\n",
    "eval_file = case_name + '_e2c_eval' + target_suffix + train_suffix + '_n%d_dt%dday_nt%d_nrun%d.mat'%(num_eval, dt, num_t, run_eval)\n",
    "train_file = case_name + '_e2c_train' + target_suffix + train_suffix + '_n%d_dt%dday_nt%d_nrun%d.mat'%(num_train, dt, num_t, run_train)\n",
    "\n",
    "state_file = case_name + '_train_n_400_full'\n",
    "ctrl_file = case_name + '_norm_bhps_n_400'\n",
    "\n",
    "state_data = state_file + target_suffix + '.mat'\n",
    "ctrl_data = ctrl_file + target_suffix + '.mat'"
   ]
  },
  {
   "cell_type": "markdown",
   "metadata": {},
   "source": [
    "## Load E2C model"
   ]
  },
  {
   "cell_type": "code",
   "execution_count": 4,
   "metadata": {},
   "outputs": [],
   "source": [
    "latent_dim, u_dim = 50, 50\n",
    "input_shape = (60, 60, 2) # change from _with_p to _no_p\n",
    "encoder, decoder, transition, wc_encoder = create_e2c_var_wl(latent_dim, u_dim, input_shape)\n",
    "\n",
    "latent_dim, learning_rate, epoch = 50, 1e-4, 20"
   ]
  },
  {
   "cell_type": "code",
   "execution_count": 5,
   "metadata": {},
   "outputs": [],
   "source": [
    "encoder.load_weights(output_dir + 'e2c_encoder_dt_'+case_name+case_suffix+train_suffix+model_suffix+'_nt%d_l%d_lr%.0e_ep%d.h5' % (num_train, latent_dim, learning_rate, epoch))\n",
    "decoder.load_weights(output_dir + 'e2c_decoder_dt_'+case_name+case_suffix+train_suffix+model_suffix+'_nt%d_l%d_lr%.0e_ep%d.h5' % (num_train, latent_dim, learning_rate, epoch))\n",
    "transition.load_weights(output_dir + 'e2c_transition_dt_'+case_name+case_suffix+train_suffix+model_suffix+'_nt%d_l%d_lr%.0e_ep%d.h5' % (num_train, latent_dim, learning_rate, epoch))\n",
    "wc_encoder.load_weights(output_dir + 'e2c_wc_encoder_dt_'+case_name+case_suffix+train_suffix+model_suffix+'_nt%d_l%d_lr%.0e_ep%d.h5' % (num_train, latent_dim, learning_rate, epoch))"
   ]
  },
  {
   "cell_type": "markdown",
   "metadata": {},
   "source": [
    "## One step prediction"
   ]
  },
  {
   "cell_type": "code",
   "execution_count": 6,
   "metadata": {},
   "outputs": [],
   "source": [
    "hf_r = h5py.File(data_dir + eval_file, 'r')\n",
    "state_t_eval = np.array(hf_r.get('state_t'))\n",
    "state_t1_eval = np.array(hf_r.get('state_t1'))\n",
    "bhp_eval = np.array(hf_r.get('bhp'))\n",
    "dt_eval = np.array(hf_r.get('dt'))\n",
    "wl_mask_eval = np.array(hf_r.get('wl_mask'))\n",
    "hf_r.close()"
   ]
  },
  {
   "cell_type": "code",
   "execution_count": 7,
   "metadata": {},
   "outputs": [],
   "source": [
    "# num_eval = 20 # pick 20 out of 2000 evals\n",
    "# state_t_eval = state_t_eval[:num_eval, ...]\n",
    "# state_t1_eval = state_t1_eval[:num_eval, ...]\n",
    "# bhp_eval = bhp_eval[:num_eval, ...]\n",
    "# wl_mask_eval = wl_mask_eval[:num_eval, ...]"
   ]
  },
  {
   "cell_type": "code",
   "execution_count": 8,
   "metadata": {},
   "outputs": [
    {
     "name": "stdout",
     "output_type": "stream",
     "text": [
      "(2000, 60, 60, 2)\n",
      "(2000, 60, 60, 2)\n",
      "-0.14284373895778216\n",
      "0.9101197994449696\n",
      "(2000, 60, 60, 2)\n"
     ]
    }
   ],
   "source": [
    "print(state_t_eval.shape)\n",
    "print(state_t1_eval.shape)\n",
    "print(bhp_eval[:,:5].min().min())\n",
    "print(bhp_eval[:,:5].max().max())\n",
    "print(bhp_eval.shape)"
   ]
  },
  {
   "cell_type": "code",
   "execution_count": 9,
   "metadata": {},
   "outputs": [],
   "source": [
    "hf_r = h5py.File(data_dir + train_file, 'r')\n",
    "state_t_train = np.array(hf_r.get('state_t'))\n",
    "state_t1_train = np.array(hf_r.get('state_t1'))\n",
    "bhp_train = np.array(hf_r.get('bhp'))\n",
    "dt_train = np.array(hf_r.get('dt'))\n",
    "wl_mask_train = np.array(hf_r.get('wl_mask'))\n",
    "hf_r.close()"
   ]
  },
  {
   "cell_type": "code",
   "execution_count": 10,
   "metadata": {},
   "outputs": [
    {
     "name": "stdout",
     "output_type": "stream",
     "text": [
      "(6000, 60, 60, 2)\n",
      "(6000, 60, 60, 2)\n",
      "-0.1428273875727304\n",
      "0.9555559114598056\n",
      "(6000, 60, 60, 2)\n"
     ]
    }
   ],
   "source": [
    "print(state_t_train.shape)\n",
    "print(state_t1_train.shape)\n",
    "print(bhp_train[:,:5].min().min())\n",
    "print(bhp_train[:,:5].max().max())\n",
    "print(bhp_train.shape)"
   ]
  },
  {
   "cell_type": "code",
   "execution_count": 11,
   "metadata": {},
   "outputs": [],
   "source": [
    "xt = Input(shape=input_shape)\n",
    "xt1 = Input(shape=input_shape)\n",
    "ut = Input(shape=input_shape)\n",
    "dt = Input(shape=(1,))\n",
    "wl_mask = Input(shape=(60, 60)) # both prod and inj"
   ]
  },
  {
   "cell_type": "code",
   "execution_count": 12,
   "metadata": {},
   "outputs": [],
   "source": [
    "zt = encoder(xt)\n",
    "xt_rec = decoder(zt)\n",
    "\n",
    "ut_encoded = wc_encoder(ut)\n",
    "\n",
    "zt1_pred = transition([zt, ut_encoded, dt])\n",
    "xt1_pred = decoder(zt1_pred)\n",
    "\n",
    "e2c_model = Model([xt, ut, dt], [xt_rec, xt1_pred])"
   ]
  },
  {
   "cell_type": "code",
   "execution_count": null,
   "metadata": {},
   "outputs": [],
   "source": [
    "[state_t_rec_eval, state_t1_pred_eval] = e2c_model.predict([state_t_eval, bhp_eval, dt_eval])"
   ]
  },
  {
   "cell_type": "code",
   "execution_count": null,
   "metadata": {},
   "outputs": [],
   "source": [
    "[state_t_rec_train, state_t1_pred_train] = e2c_model.predict([state_t_train, bhp_train, dt_train])"
   ]
  },
  {
   "cell_type": "code",
   "execution_count": null,
   "metadata": {},
   "outputs": [],
   "source": [
    "print(state_t_rec_eval.shape)\n",
    "print(state_t1_pred_eval.shape)\n",
    "\n",
    "print(state_t_rec_train.shape)\n",
    "print(state_t1_pred_train.shape)"
   ]
  },
  {
   "cell_type": "code",
   "execution_count": null,
   "metadata": {},
   "outputs": [],
   "source": [
    "for k in range(10):\n",
    "    plt.figure(figsize=(20,10))\n",
    "    plt.subplot(1, 3, 1)\n",
    "    plt.imshow(state_t_eval[k, :, :, 0])\n",
    "    plt.clim([0.1, 0.7])\n",
    "    plt.colorbar(fraction=0.046)\n",
    "    plt.xticks([])\n",
    "    plt.yticks([])\n",
    "    plt.title('True Sat t')\n",
    "    \n",
    "    plt.subplot(1, 3, 2)\n",
    "    plt.imshow(state_t_rec_eval[k, :, :, 0])\n",
    "    plt.clim([0.1, 0.7])\n",
    "    plt.colorbar(fraction=0.046)\n",
    "    plt.xticks([])\n",
    "    plt.yticks([])\n",
    "    plt.title('Reconstructed Sat t')\n",
    "    \n",
    "    plt.subplot(1, 3, 3)\n",
    "    plt.imshow(np.fabs(state_t_rec_eval[k, :, :, 0] - state_t_eval[k, :, :, 0]))\n",
    "    plt.colorbar(fraction=0.046)\n",
    "    plt.xticks([])\n",
    "    plt.yticks([])\n",
    "    plt.title('Reconstruction error t')\n",
    "plt.show()"
   ]
  },
  {
   "cell_type": "code",
   "execution_count": null,
   "metadata": {},
   "outputs": [],
   "source": [
    "for k in range(5):\n",
    "    plt.figure(figsize=(20,10))\n",
    "    plt.subplot(1, 3, 1)\n",
    "    plt.imshow(state_t_train[k, :, :, 0])\n",
    "    plt.clim([0.1, 0.7])\n",
    "    plt.colorbar(fraction=0.046)\n",
    "    plt.xticks([])\n",
    "    plt.yticks([])\n",
    "    plt.title('True Sat t')\n",
    "    \n",
    "    plt.subplot(1, 3, 2)\n",
    "    plt.imshow(state_t_rec_train[k, :, :, 0])\n",
    "    plt.clim([0.1, 0.7])\n",
    "    plt.colorbar(fraction=0.046)\n",
    "    plt.xticks([])\n",
    "    plt.yticks([])\n",
    "    plt.title('Reconstructed Sat t')\n",
    "    \n",
    "    plt.subplot(1, 3, 3)\n",
    "    plt.imshow(np.fabs(state_t_rec_train[k, :, :, 0] - state_t_train[k, :, :, 0]))\n",
    "    plt.colorbar(fraction=0.046)\n",
    "    plt.xticks([])\n",
    "    plt.yticks([])\n",
    "    plt.title('Reconstruction error t')\n",
    "    \n",
    "plt.show()"
   ]
  },
  {
   "cell_type": "code",
   "execution_count": null,
   "metadata": {},
   "outputs": [],
   "source": [
    "p_max = 425\n",
    "p_min = 250\n",
    "p_diff = p_max - p_min\n",
    "\n",
    "state_t_eval_plot = state_t_eval * p_diff + p_min\n",
    "state_t_rec_plot = state_t_rec * p_diff + p_min\n",
    "state_t1_eval_plot = state_t1_eval * p_diff + p_min\n",
    "state_t1_pred_plot = state_t1_pred * p_diff + p_min"
   ]
  },
  {
   "cell_type": "code",
   "execution_count": null,
   "metadata": {},
   "outputs": [],
   "source": [
    "for k in range(num_eval):\n",
    "    plt.figure(figsize=(20,10))\n",
    "    plt.subplot(2, 3, 1)\n",
    "    plt.imshow(state_t_eval_plot[k, :, :, 1])\n",
    "#     plt.clim([4150, 4600])\n",
    "    plt.colorbar(fraction=0.046)\n",
    "    plt.xticks([])\n",
    "    plt.yticks([])\n",
    "    plt.title('True Pres t')\n",
    "    \n",
    "    plt.subplot(2, 3, 2)\n",
    "    plt.imshow(state_t_rec_plot[k, :, :, 1])\n",
    "#     plt.clim([4150, 4600])\n",
    "    plt.colorbar(fraction=0.046)\n",
    "    plt.xticks([])\n",
    "    plt.yticks([])\n",
    "    plt.title('Reconstructed Pres t')\n",
    "    \n",
    "    plt.subplot(2, 3, 3)\n",
    "    plt.imshow(np.fabs(state_t_rec_plot[k, :, :, 1] - state_t_eval_plot[k, :, :, 1]))\n",
    "    plt.colorbar(fraction=0.046)\n",
    "    plt.xticks([])\n",
    "    plt.yticks([])\n",
    "    plt.title('Reconstruction error t')\n",
    "    \n",
    "    plt.subplot(2, 3, 4)\n",
    "    plt.imshow(state_t1_eval_plot[k, :, :, 1])\n",
    "#     plt.clim([4150, 4600])\n",
    "    plt.colorbar(fraction=0.046)\n",
    "    plt.xticks([])\n",
    "    plt.yticks([])\n",
    "    plt.title('True Pres t+1')\n",
    "    \n",
    "    plt.subplot(2, 3, 5)\n",
    "    plt.imshow(state_t1_pred_plot[k, :, :, 1])\n",
    "#     plt.clim([4150, 4600])\n",
    "    plt.colorbar(fraction=0.046)\n",
    "    plt.xticks([])\n",
    "    plt.yticks([])\n",
    "    plt.title('Predicted Pres t+1')\n",
    "    \n",
    "    plt.subplot(2, 3, 6)\n",
    "    plt.imshow(np.fabs(state_t1_pred_plot[k, :, :, 1] - state_t1_eval_plot[k, :, :, 1]))\n",
    "    plt.colorbar(fraction=0.046)\n",
    "    plt.xticks([])\n",
    "    plt.yticks([])\n",
    "    plt.title('Prediction Error t+1')\n",
    "plt.show()"
   ]
  },
  {
   "cell_type": "markdown",
   "metadata": {},
   "source": [
    "## Sequential prediction"
   ]
  },
  {
   "cell_type": "code",
   "execution_count": null,
   "metadata": {},
   "outputs": [],
   "source": [
    "hf_r = h5py.File(data_dir + state_data, 'r')\n",
    "# sat = np.array(hf_r.get('sat'))\n",
    "# pres = np.array(hf_r.get('pres'))\n",
    "sat_t = np.array(hf_r.get('sat_t')).reshape(400, 20, 60, 60)\n",
    "pres_t = np.array(hf_r.get('pres_t')).reshape(400, 20, 60, 60)\n",
    "hf_r.close()"
   ]
  },
  {
   "cell_type": "code",
   "execution_count": null,
   "metadata": {},
   "outputs": [],
   "source": [
    "hf_r = h5py.File(data_dir + ctrl_data, 'r')\n",
    "# bhp0 = np.array(hf_r.get('bhp'))\n",
    "# rate0 = np.array(hf_r.get('rate'))\n",
    "wc_encoded_t = np.array(hf_r.get('wc_encoded_t'))\n",
    "hf_r.close()\n",
    "# bhp -= 0.45"
   ]
  },
  {
   "cell_type": "code",
   "execution_count": null,
   "metadata": {},
   "outputs": [],
   "source": [
    "print(wc_encoded_t.shape)\n",
    "print(sat_t.shape)\n",
    "print(pres_t.shape)"
   ]
  },
  {
   "cell_type": "code",
   "execution_count": null,
   "metadata": {},
   "outputs": [],
   "source": [
    "# bhp = np.concatenate((bhp0,rate0),axis=1)\n",
    "# print(bhp.shape)"
   ]
  },
  {
   "cell_type": "code",
   "execution_count": null,
   "metadata": {},
   "outputs": [],
   "source": [
    "# sat = sat.T.reshape((400, 201, 3600))\n",
    "# pres = pres.T.reshape((400, 201, 3600))"
   ]
  },
  {
   "cell_type": "code",
   "execution_count": null,
   "metadata": {},
   "outputs": [],
   "source": [
    "test_case0 = np.zeros((25,4))\n",
    "a = np.array(range(75,400,100))[np.newaxis,:]\n",
    "b = np.array(range(25))[:,np.newaxis]\n",
    "print(a.shape)\n",
    "print(b.shape)\n",
    "test_case = (test_case0 + a + b).T.reshape(100)\n",
    "test_case = np.array(test_case).astype(int)\n",
    "\n",
    "# test_case = np.array(test_case)\n",
    "print(test_case.shape)"
   ]
  },
  {
   "cell_type": "code",
   "execution_count": null,
   "metadata": {},
   "outputs": [],
   "source": [
    "# ind_case = np.array(range(0, 100, 25)) + 10\n",
    "\n",
    "ind_case = np.array([10, 25, 77, 97])\n",
    "print(ind_case)"
   ]
  },
  {
   "cell_type": "code",
   "execution_count": null,
   "metadata": {},
   "outputs": [],
   "source": [
    "num_case = test_case.shape[0] # 4\n",
    "num_tstep = 20\n",
    "sat_pred = np.zeros((num_case, num_tstep, 60, 60, 1))\n",
    "pres_pred = np.zeros((num_case, num_tstep, 60, 60, 1))"
   ]
  },
  {
   "cell_type": "code",
   "execution_count": null,
   "metadata": {},
   "outputs": [],
   "source": [
    "# t_steps = list(np.arange(0,100,10))\n",
    "t_steps = np.arange(0,200,200//num_tstep)\n",
    "print(t_steps)\n",
    "# num_tstep = len(t_steps)"
   ]
  },
  {
   "cell_type": "code",
   "execution_count": null,
   "metadata": {},
   "outputs": [],
   "source": [
    "dt = 10\n",
    "t_steps1 = (t_steps + dt).astype(int)\n",
    "print(t_steps1)"
   ]
  },
  {
   "cell_type": "code",
   "execution_count": null,
   "metadata": {},
   "outputs": [],
   "source": [
    "indt_del = t_steps1 - t_steps\n",
    "indt_del = indt_del / max(indt_del)\n",
    "print(indt_del.shape)"
   ]
  },
  {
   "cell_type": "code",
   "execution_count": null,
   "metadata": {},
   "outputs": [],
   "source": [
    "# tmp = np.array(range(num_tstep)) - 1\n",
    "# tmp1 = np.array(range(num_tstep))\n",
    "# tmp[0] = 0\n",
    "\n",
    "# print(tmp)\n",
    "# print(tmp1)\n",
    "# print(bhp.shape)"
   ]
  },
  {
   "cell_type": "code",
   "execution_count": null,
   "metadata": {},
   "outputs": [],
   "source": [
    "num_prod = 5\n",
    "num_inj = 4\n",
    "num_well = num_prod + num_inj\n",
    "\n",
    "num_all_case = 400\n",
    "num_ctrl = 20\n"
   ]
  },
  {
   "cell_type": "code",
   "execution_count": null,
   "metadata": {},
   "outputs": [],
   "source": [
    "print(num_ctrl)\n",
    "print(num_tstep)"
   ]
  },
  {
   "cell_type": "code",
   "execution_count": null,
   "metadata": {},
   "outputs": [],
   "source": [
    "# bhp_b0 = bhp.reshape(num_all_case, num_well, num_ctrl)\n",
    "# bhp_b1 = np.repeat(bhp_b0[..., np.newaxis], num_tstep // num_ctrl, axis=3)\n",
    "# assert num_tstep // num_ctrl * num_ctrl == num_tstep, \"no exaxt division num_step = %d, num_ctrl=%d\"%(num_tstep, num_ctrl)\n",
    "\n",
    "# print(bhp_b1.shape)\n",
    "# bhp_b2 = bhp_b1.reshape(num_all_case, num_well, num_tstep)\n",
    "# print(bhp_b2.shape)"
   ]
  },
  {
   "cell_type": "code",
   "execution_count": null,
   "metadata": {},
   "outputs": [],
   "source": [
    "# bhp_tt = bhp_b2[:,:, tmp]\n",
    "# bhp_tt1 = bhp_b2[:,:, tmp1]\n",
    "# print(bhp_tt.shape)\n",
    "# print(bhp_tt1.shape)\n",
    "\n",
    "# bhp_tt0 = np.concatenate((bhp_tt, bhp_tt1), axis=1)\n",
    "# bhp_t = np.swapaxes(bhp_tt0,1,2)\n",
    "# print(bhp_t.shape)\n",
    "# print(bhp[0,:20])\n",
    "# print(bhp_t[0,:,9])"
   ]
  },
  {
   "cell_type": "code",
   "execution_count": null,
   "metadata": {},
   "outputs": [],
   "source": [
    "# bhp_seq = bhp_t[test_case, :, :]\n",
    "# print(bhp_seq.shape)"
   ]
  },
  {
   "cell_type": "code",
   "execution_count": null,
   "metadata": {},
   "outputs": [],
   "source": [
    "bhp_seq = wc_encoded_t[test_case, ...]\n",
    "print(bhp_seq.shape)"
   ]
  },
  {
   "cell_type": "code",
   "execution_count": null,
   "metadata": {},
   "outputs": [],
   "source": [
    "plt.figure(figsize=(16,4))\n",
    "plt.subplot(141)\n",
    "plt.imshow(bhp_seq[ind_case[0],1,:,:,0])\n",
    "plt.colorbar(fraction=0.046)\n",
    "plt.subplot(142)\n",
    "plt.imshow(bhp_seq[ind_case[1],1,:,:,0])\n",
    "plt.colorbar(fraction=0.046)\n",
    "plt.subplot(143)\n",
    "plt.imshow(bhp_seq[ind_case[2],1,:,:,0])\n",
    "plt.colorbar(fraction=0.046)\n",
    "plt.subplot(144)\n",
    "plt.imshow(bhp_seq[ind_case[3],1,:,:,0])\n",
    "plt.colorbar(fraction=0.046)"
   ]
  },
  {
   "cell_type": "code",
   "execution_count": null,
   "metadata": {},
   "outputs": [],
   "source": [
    "sat_t_seq = sat_t[test_case, 0, ...].reshape((num_case, 60, 60, 1)) # 4 here is the 4th timestep, t = 8\n",
    "pres_t_seq = pres_t[test_case, 0, ...].reshape((num_case, 60, 60, 1))\n",
    "print(sat_t_seq.shape)\n",
    "print(pres_t_seq.shape)\n",
    "print(\"num_case:{}\".format(num_case))"
   ]
  },
  {
   "cell_type": "code",
   "execution_count": null,
   "metadata": {},
   "outputs": [],
   "source": [
    "# plt.figure(figsize=(15,6))\n",
    "# for k in range(len(ind_case)):\n",
    "#     plt.subplot(2,4,k+1)\n",
    "#     plt.imshow(sat_t_seq[ind_case[k], :, :, 0])\n",
    "#     plt.colorbar(fraction=0.046)\n",
    "    \n",
    "#     plt.subplot(2,4,k+5)\n",
    "#     plt.imshow(pres_t_seq[ind_case[k], :, :, 0])\n",
    "#     plt.colorbar(fraction=0.046)\n",
    "# plt.show()"
   ]
  },
  {
   "cell_type": "code",
   "execution_count": null,
   "metadata": {},
   "outputs": [],
   "source": [
    "print(sat_t_seq.shape)\n",
    "print(sat_pred.shape)\n",
    "print(pres_t_seq.shape)\n",
    "print(pres_pred.shape)\n",
    "print(bhp_seq.shape)"
   ]
  },
  {
   "cell_type": "code",
   "execution_count": null,
   "metadata": {},
   "outputs": [],
   "source": [
    "state_t_seq = np.concatenate((sat_t_seq, pres_t_seq),axis=3)\n",
    "state_pred = np.concatenate((sat_pred, pres_pred),axis=4)\n",
    "print(state_t_seq.shape)\n",
    "print(state_pred.shape)"
   ]
  },
  {
   "cell_type": "code",
   "execution_count": null,
   "metadata": {},
   "outputs": [],
   "source": [
    "# plt.figure(figsize=(15,3))\n",
    "# for k in range(len(ind_case)):\n",
    "#     plt.subplot(1,4,k+1)\n",
    "#     plt.imshow(state_t_seq[ind_case[k], :, :, 0])\n",
    "#     plt.colorbar(fraction=0.046)\n",
    "# plt.show()"
   ]
  },
  {
   "cell_type": "code",
   "execution_count": null,
   "metadata": {},
   "outputs": [],
   "source": [
    "for i_tstep in range(num_tstep):\n",
    "    state_pred[:, i_tstep, ...] = state_t_seq.copy()\n",
    "    dt_seq = np.ones((num_case,1)) * indt_del[i_tstep]\n",
    "    [_, state_t1_seq] = e2c_model.predict([state_t_seq, bhp_seq[:,i_tstep,:], dt_seq])\n",
    "    state_t_seq = state_t1_seq.copy()"
   ]
  },
  {
   "cell_type": "code",
   "execution_count": null,
   "metadata": {},
   "outputs": [],
   "source": [
    "print(sat.shape)\n",
    "print(pres.shape)\n",
    "# print(state.shape)\n",
    "print(state_pred.shape)"
   ]
  },
  {
   "cell_type": "code",
   "execution_count": null,
   "metadata": {},
   "outputs": [],
   "source": [
    "# sat_seq_true = sat[test_case[ind_case], ...]\n",
    "sat_seq_true = sat_t[test_case, ...]\n",
    "# sat_seq_true = sat_seq_true[:, list(np.arange(0,200,10)), :]\n",
    "print(sat_seq_true.shape)\n",
    "\n",
    "# pres_seq_true = pres[test_case[ind_case], ...]\n",
    "pres_seq_true = pres_t[test_case, ...]\n",
    "# pres_seq_true = pres_seq_true[:, list(np.arange(0,200,10)), :]\n",
    "print(pres_seq_true.shape)\n",
    "state_seq_true = np.zeros((len(test_case),20,60,60,2))\n",
    "state_seq_true[:,:,:,:,0] = sat_seq_true\n",
    "state_seq_true[:,:,:,:,1] = pres_seq_true\n",
    "print(state_seq_true.shape)"
   ]
  },
  {
   "cell_type": "code",
   "execution_count": null,
   "metadata": {},
   "outputs": [],
   "source": [
    "sat_pred_plot = state_pred[:, :, :, :, 0] * s_diff + s_min\n",
    "state_pred[:, :, :, :, 0] = state_pred[:, :, :, :, 0] * s_diff + s_min"
   ]
  },
  {
   "cell_type": "code",
   "execution_count": null,
   "metadata": {
    "scrolled": false
   },
   "outputs": [],
   "source": [
    "divide = 2\n",
    "for k in range(4):\n",
    "    print(\"Case num: %d\"%ind_case[k])\n",
    "    plt.figure(figsize=(16,5))\n",
    "    for i_tstep in range(len(t_steps)//divide):\n",
    "        plt.subplot(3, num_tstep//divide, i_tstep+1)\n",
    "        plt.imshow(sat_pred_plot[ind_case[k], i_tstep*divide, :,:])\n",
    "        plt.title('t=%d'%(t_steps[i_tstep*divide]*dt))\n",
    "        plt.xticks([])\n",
    "        plt.yticks([])\n",
    "        plt.clim([0.1, 0.7])\n",
    "        if i_tstep == 9:\n",
    "            plt.colorbar(fraction=0.046) \n",
    "            \n",
    "        \n",
    "        plt.subplot(3, num_tstep//divide, i_tstep+1+num_tstep//divide)\n",
    "        plt.imshow(state_seq_true[ind_case[k], i_tstep*divide, :, :,0].reshape((60,60)))\n",
    "        plt.xticks([])\n",
    "        plt.yticks([])\n",
    "        plt.clim([0.1, 0.7])\n",
    "        if i_tstep == 9:\n",
    "            plt.colorbar(fraction=0.046)         \n",
    "        \n",
    "        plt.subplot(3, num_tstep//divide, i_tstep+1+2*num_tstep//divide)\n",
    "        plt.imshow(np.fabs(state_seq_true[ind_case[k], i_tstep*divide, :,:, 0].reshape((60,60)) - sat_pred_plot[ind_case[k], i_tstep*divide, :,:]))\n",
    "        plt.xticks([])\n",
    "        plt.yticks([])\n",
    "        plt.clim([0, 0.15])\n",
    "        if i_tstep == 9:\n",
    "            plt.colorbar(fraction=0.046) \n",
    "\n",
    "    plt.show()"
   ]
  },
  {
   "cell_type": "code",
   "execution_count": null,
   "metadata": {},
   "outputs": [],
   "source": [
    "state_pred_plot = state_pred[:, :, :, :, 1] * p_diff + p_min\n",
    "state_seq_true_plot = state_seq_true[:, :, :, :,1] * p_diff + p_min\n",
    "print(state_pred_plot.shape)\n",
    "print(state_seq_true_plot.shape)"
   ]
  },
  {
   "cell_type": "code",
   "execution_count": null,
   "metadata": {},
   "outputs": [],
   "source": [
    "divide = 2\n",
    "for k in range(4):\n",
    "    print(\"Case num: %d\"%ind_case[k])\n",
    "    plt.figure(figsize=(16,5))\n",
    "    for i_tstep in range(len(t_steps)//divide):\n",
    "        plt.subplot(3, num_tstep//divide, i_tstep+1)\n",
    "        plt.imshow(state_pred_plot[ind_case[k], i_tstep*divide, :, :])\n",
    "        plt.title('t=%d'%(t_steps[i_tstep*divide]*dt))\n",
    "        plt.xticks([])\n",
    "        plt.yticks([])\n",
    "#         plt.clim([4150, 4650])\n",
    "        if i_tstep == 9:\n",
    "            plt.colorbar(fraction=0.046) \n",
    "            \n",
    "        \n",
    "        plt.subplot(3, num_tstep//divide, i_tstep+1+num_tstep//divide)\n",
    "        plt.imshow(state_seq_true_plot[ind_case[k], i_tstep*divide, :].reshape((60,60)))\n",
    "        plt.xticks([])\n",
    "        plt.yticks([])\n",
    "#         plt.clim([4150, 4650])\n",
    "        if i_tstep == 9:\n",
    "            plt.colorbar(fraction=0.046)         \n",
    "        \n",
    "        plt.subplot(3, num_tstep//divide, i_tstep+1+2*num_tstep//divide)\n",
    "        plt.imshow(np.fabs(state_seq_true_plot[ind_case[k], i_tstep*divide, :].reshape((60,60)) - state_pred_plot[ind_case[k], i_tstep*divide, :,:]))\n",
    "        plt.xticks([])\n",
    "        plt.yticks([])\n",
    "#         plt.clim([0, 0.02])\n",
    "        if i_tstep == 9:\n",
    "            plt.colorbar(fraction=0.046) \n",
    "\n",
    "    plt.show()"
   ]
  },
  {
   "cell_type": "code",
   "execution_count": null,
   "metadata": {},
   "outputs": [],
   "source": [
    "print(state_seq_true.shape)\n",
    "print(state_pred.shape)\n",
    "print(bhp_seq.shape)"
   ]
  },
  {
   "cell_type": "code",
   "execution_count": null,
   "metadata": {},
   "outputs": [],
   "source": [
    "print(ind_case)"
   ]
  },
  {
   "cell_type": "code",
   "execution_count": null,
   "metadata": {},
   "outputs": [],
   "source": [
    "train_case0 = np.zeros((75,4))\n",
    "a = np.array(range(0,400,100))[np.newaxis,:]\n",
    "b = np.array(range(75))[:,np.newaxis]\n",
    "print(a.shape)\n",
    "print(b.shape)\n",
    "train_case = (train_case0 + a + b).T.reshape(300)\n",
    "train_case = np.array(train_case)\n",
    "print(train_case)"
   ]
  },
  {
   "cell_type": "code",
   "execution_count": null,
   "metadata": {},
   "outputs": [],
   "source": [
    "print(sat.shape)\n",
    "print(pres.shape)\n",
    "sat_seq_train0 = sat[train_case.astype(int), :, :] \n",
    "pres_seq_train0 = pres[train_case.astype(int), :, :]\n",
    "sat_seq_train = sat_seq_train0[:, np.arange(0,200,10), :]\n",
    "pres_seq_train = pres_seq_train0[:, np.arange(0,200,10), :]\n",
    "print(sat_seq_true.shape)\n",
    "print(pres_seq_true.shape)\n",
    "\n",
    "state_seq_train = np.zeros((300,20,3600,2))\n",
    "state_seq_train[:,:,:,0] = sat_seq_train\n",
    "state_seq_train[:,:,:,1] = pres_seq_train\n",
    "print(state_seq_train.shape)"
   ]
  },
  {
   "cell_type": "code",
   "execution_count": null,
   "metadata": {},
   "outputs": [],
   "source": [
    "bhp_train = bhp[train_case.astype(int),:]\n",
    "bhp_eval = bhp[test_case.astype(int),:]\n",
    "print(state_seq_true.shape)\n",
    "print(state_pred.shape)\n",
    "print(state_seq_train.shape)\n",
    "print(bhp_seq.shape)\n",
    "print(bhp_train.shape)\n",
    "print(bhp_eval.shape)\n"
   ]
  },
  {
   "cell_type": "code",
   "execution_count": null,
   "metadata": {},
   "outputs": [],
   "source": [
    "output_dir = '/data3/Astro/lstm_rom/e2c_larry/data/9w_ms_bhp_rate_fix_wl/'\n",
    "# output_dir = '/data3/Astro/lstm_rom/e2c_larry/data/' + case_name + '/'\n",
    "\n",
    "# old case may not have model_suffix in the result filename\n",
    "# hf_w = h5py.File(output_dir + case_name + target_suffix + '_nt_%d_state_seq_pred_ctrl.mat'%(num_train), 'w')\n",
    "hf_w = h5py.File(output_dir + case_name + target_suffix + model_suffix + '_nt_%d_state_seq_pred_ctrl.mat'%(num_train), 'w')\n",
    "hf_w.create_dataset('true_seq', data=state_seq_true)\n",
    "hf_w.create_dataset('pred_seq', data=state_pred)\n",
    "hf_w.create_dataset('train_seq', data=state_seq_train)\n",
    "hf_w.create_dataset('ctrl_seq', data=bhp_seq)\n",
    "hf_w.create_dataset('train_ctrl', data=bhp_train)\n",
    "hf_w.create_dataset('eval_ctrl', data=bhp_eval)\n",
    "hf_w.close()"
   ]
  },
  {
   "cell_type": "code",
   "execution_count": null,
   "metadata": {},
   "outputs": [],
   "source": [
    "print(num_train)"
   ]
  },
  {
   "cell_type": "code",
   "execution_count": null,
   "metadata": {},
   "outputs": [],
   "source": []
  }
 ],
 "metadata": {
  "kernelspec": {
   "display_name": "Python [conda env:tf-1.10.0]",
   "language": "python",
   "name": "conda-env-tf-1.10.0-py"
  },
  "language_info": {
   "codemirror_mode": {
    "name": "ipython",
    "version": 3
   },
   "file_extension": ".py",
   "mimetype": "text/x-python",
   "name": "python",
   "nbconvert_exporter": "python",
   "pygments_lexer": "ipython3",
   "version": "3.6.6"
  }
 },
 "nbformat": 4,
 "nbformat_minor": 2
}
